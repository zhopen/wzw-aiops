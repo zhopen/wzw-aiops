{
 "cells": [
  {
   "cell_type": "code",
   "execution_count": null,
   "metadata": {},
   "outputs": [
    {
     "name": "stdout",
     "output_type": "stream",
     "text": [
      "start\n",
      "receiving\n",
      "{\"log\":\"2018-04-17 00:00:00.796 [INFO][179] int_dataplane.go 690: Applying dataplane updates\n",
      "\",\"stream\":\"stdout\",\"hostname\":\"core-cmhadoop7-9\",\"container_log_file\":\"calico-node-4hj8b_kube-system_calico-node-606dad2cbcc39905310bebd8a0d8217268897403013fa445a89a0e71466ae630\"}\n",
      "{\"log\":\"2018-04-17 00:00:00.796 [INFO][179] int_dataplane.go 690: Applying dataplane updates\n",
      "\",\"stream\":\"stdout\",\"hostname\":\"core-cmhadoop7-9\",\"container_log_file\":\"calico-node-4hj8b_kube-system_calico-node-606dad2cbcc39905310bebd8a0d8217268897403013fa445a89a0e71466ae630\"}\n",
      "{\"log\":\"2018-04-17 00:00:00.796 [INFO][179] int_dataplane.go 690: Applying dataplane updates\n",
      "\",\"stream\":\"stdout\",\"hostname\":\"core-cmhadoop7-9\",\"container_log_file\":\"calico-node-4hj8b_kube-system_calico-node-606dad2cbcc39905310bebd8a0d8217268897403013fa445a89a0e71466ae630\"}\n",
      "{\"log\":\"2018-04-17 00:00:00.796 [INFO][179] int_dataplane.go 690: Applying dataplane updates\n",
      "\",\"stream\":\"stdout\",\"hostname\":\"core-cmhadoop7-9\",\"container_log_file\":\"calico-node-4hj8b_kube-system_calico-node-606dad2cbcc39905310bebd8a0d8217268897403013fa445a89a0e71466ae630\"}\n",
      "{\"log\":\"2018-04-17 00:00:00.796 [INFO][179] int_dataplane.go 690: Applying dataplane updates\n",
      "\",\"stream\":\"stdout\",\"hostname\":\"core-cmhadoop7-9\",\"container_log_file\":\"calico-node-4hj8b_kube-system_calico-node-606dad2cbcc39905310bebd8a0d8217268897403013fa445a89a0e71466ae630\"}\n",
      "{\"log\":\"2018-04-17 00:00:00.796 [INFO][179] int_dataplane.go 690: Applying dataplane updates\n",
      "\",\"stream\":\"stdout\",\"hostname\":\"core-cmhadoop7-9\",\"container_log_file\":\"calico-node-4hj8b_kube-system_calico-node-606dad2cbcc39905310bebd8a0d8217268897403013fa445a89a0e71466ae630\"}\n",
      "{\"log\":\"2018-04-17 00:00:00.796 [INFO][179] int_dataplane.go 690: Applying dataplane updates\n",
      "\",\"stream\":\"stdout\",\"hostname\":\"core-cmhadoop7-9\",\"container_log_file\":\"calico-node-4hj8b_kube-system_calico-node-606dad2cbcc39905310bebd8a0d8217268897403013fa445a89a0e71466ae630\"}\n",
      "{\"log\":\"2018-04-17 00:00:00.796 [INFO][179] int_dataplane.go 690: Applying dataplane updates\n",
      "\",\"stream\":\"stdout\",\"hostname\":\"core-cmhadoop7-9\",\"container_log_file\":\"calico-node-4hj8b_kube-system_calico-node-606dad2cbcc39905310bebd8a0d8217268897403013fa445a89a0e71466ae630\"}\n",
      "{\"log\":\"2018-04-17 00:00:00.796 [INFO][179] int_dataplane.go 690: Applying dataplane updates\n",
      "\",\"stream\":\"stdout\",\"hostname\":\"core-cmhadoop7-9\",\"container_log_file\":\"calico-node-4hj8b_kube-system_calico-node-606dad2cbcc39905310bebd8a0d8217268897403013fa445a89a0e71466ae630\"}\n",
      "{\"log\":\"2018-04-17 00:00:00.796 [INFO][179] int_dataplane.go 690: Applying dataplane updates\n",
      "\",\"stream\":\"stdout\",\"hostname\":\"core-cmhadoop7-9\",\"container_log_file\":\"calico-node-4hj8b_kube-system_calico-node-606dad2cbcc39905310bebd8a0d8217268897403013fa445a89a0e71466ae630\"}\n",
      "{\"log\":\"2018-04-17 00:00:00.796 [INFO][179] int_dataplane.go 690: Applying dataplane updates\n",
      "\",\"stream\":\"stdout\",\"hostname\":\"core-cmhadoop7-9\",\"container_log_file\":\"calico-node-4hj8b_kube-system_calico-node-606dad2cbcc39905310bebd8a0d8217268897403013fa445a89a0e71466ae630\"}\n",
      "{\"log\":\"2018-04-17 00:00:00.796 [INFO][179] int_dataplane.go 690: Applying dataplane updates\n",
      "\",\"stream\":\"stdout\",\"hostname\":\"core-cmhadoop7-9\",\"container_log_file\":\"calico-node-4hj8b_kube-system_calico-node-606dad2cbcc39905310bebd8a0d8217268897403013fa445a89a0e71466ae630\"}\n",
      "{\"log\":\"2018-04-17 00:00:00.796 [INFO][179] int_dataplane.go 690: Applying dataplane updates\n",
      "\",\"stream\":\"stdout\",\"hostname\":\"core-cmhadoop7-9\",\"container_log_file\":\"calico-node-4hj8b_kube-system_calico-node-606dad2cbcc39905310bebd8a0d8217268897403013fa445a89a0e71466ae630\"}\n"
     ]
    }
   ],
   "source": [
    "from kafka import KafkaConsumer\n",
    "print(\"start\")\n",
    "consumer = KafkaConsumer('topic1', bootstrap_servers=['123.206.41.161:9092'])\n",
    "print(\"receiving\")\n",
    "for msg in consumer:\n",
    "    print (msg.value.decode())"
   ]
  },
  {
   "cell_type": "code",
   "execution_count": null,
   "metadata": {},
   "outputs": [],
   "source": []
  }
 ],
 "metadata": {
  "kernelspec": {
   "display_name": "Python 3",
   "language": "python",
   "name": "python3"
  },
  "language_info": {
   "codemirror_mode": {
    "name": "ipython",
    "version": 3
   },
   "file_extension": ".py",
   "mimetype": "text/x-python",
   "name": "python",
   "nbconvert_exporter": "python",
   "pygments_lexer": "ipython3",
   "version": "3.6.5"
  }
 },
 "nbformat": 4,
 "nbformat_minor": 2
}
